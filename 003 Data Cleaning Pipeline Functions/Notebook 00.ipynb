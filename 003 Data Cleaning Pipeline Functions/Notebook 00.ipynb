{
 "cells": [
  {
   "cell_type": "code",
   "execution_count": null,
   "metadata": {},
   "outputs": [],
   "source": [
    "# Create Pipeline \n",
    "pipeline = DataCleaningPipeline()\n",
    "\n",
    "# Define the steps in the pipeline\n",
    "pipeline.add_step('remove_duplicates', remove_duplicates)\n",
    "pipeline.add_step('standardize_dates', standardize_dates)"
   ]
  }
 ],
 "metadata": {
  "language_info": {
   "name": "python"
  }
 },
 "nbformat": 4,
 "nbformat_minor": 2
}
